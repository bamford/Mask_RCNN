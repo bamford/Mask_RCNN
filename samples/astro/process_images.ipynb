{
 "cells": [
  {
   "cell_type": "code",
   "execution_count": 1,
   "metadata": {},
   "outputs": [],
   "source": [
    "from astropy.io import fits\n",
    "from astropy.visualization.lupton_rgb import make_lupton_rgb\n",
    "import numpy as np\n",
    "from glob import glob\n",
    "import os.path"
   ]
  },
  {
   "cell_type": "code",
   "execution_count": 2,
   "metadata": {},
   "outputs": [],
   "source": [
    "def crops(fnames, xrange, yrange):\n",
    "    return [fits.open(f)[0].data[xrange[0]:xrange[1], yrange[0]:yrange[1]] for f in fnames]"
   ]
  },
  {
   "cell_type": "code",
   "execution_count": 3,
   "metadata": {},
   "outputs": [],
   "source": [
    "def multicrops(field, out='crops', cropsize=256,\n",
    "               scales=(1, 1.3, 7.0),\n",
    "               minimum=-0.01, stretch=0.05, Q=8,\n",
    "               datapath='/gpfs01/home/ppzsb1/astobjdet/images',\n",
    "               bands=['814', '606', '435'],\n",
    "               maskband=['814']):\n",
    "    fr, fg, fb = [glob(os.path.join(datapath, field, 'hlsp*{}*drz.fits'.format(b)))[0] for b in bands]\n",
    "    fm = glob(os.path.join(datapath, field, '*{}*seg.fits'.format(maskband)))[0]\n",
    "    out = os.path.join(datapath, field, out)\n",
    "    os.makedirs(out, exist_ok=True)\n",
    "    with fits.open(fm) as mask:\n",
    "        shape = mask[0].shape\n",
    "    # figure out how many crops fit into image\n",
    "    # then choose limits to give even border\n",
    "    # not going to bother with overlaps now we have more images\n",
    "    nx = int(shape[0] / cropsize)\n",
    "    ny = int(shape[1] / cropsize)\n",
    "    px = nx * cropsize\n",
    "    py = ny * cropsize\n",
    "    bx = int((shape[0] - px) / 2)\n",
    "    by = int((shape[1] - py) / 2)\n",
    "    xl, xh = bx, bx + px\n",
    "    yl, yh = by, by + py\n",
    "    xranges = list(zip(np.arange(xl, xh+1, cropsize)[:-1],\n",
    "                       np.arange(xl, xh+1, cropsize)[1:]))\n",
    "    yranges = list(zip(np.arange(yl, yh+1, cropsize)[:-1],\n",
    "                       np.arange(yl, yh+1, cropsize)[1:]))\n",
    "    for i, xr in enumerate(xranges):\n",
    "        for j, yr in enumerate(yranges):\n",
    "            r, g, b, m = crops([fr, fg, fb, fm], xr, yr)\n",
    "            if m.sum() > 0:\n",
    "                # if there are some objects in the mask\n",
    "                img = make_lupton_rgb(r * scales[0],\n",
    "                                      g * scales[1],\n",
    "                                      b * scales[2],\n",
    "                                      minimum=minimum, stretch=stretch, Q=Q)\n",
    "                np.save(os.path.join(out, 'crop_{}_{}.npy'.format(i, j)), img)\n",
    "                np.save(os.path.join(out, 'mask_{}_{}.npy'.format(i, j)), m)"
   ]
  },
  {
   "cell_type": "code",
   "execution_count": null,
   "metadata": {},
   "outputs": [],
   "source": [
    "fields = ['abell2744', 'abell2744par',\n",
    "          'abell370', 'abell370par',\n",
    "          'abells1063', 'abells1063par',\n",
    "          'macs0416', 'macs0416par',\n",
    "          'macs0717', 'macs0717par',\n",
    "          'macs1149', 'macs1149par']\n",
    "\n",
    "for f in fields:\n",
    "    multicrops(f, out='crops', minimum=-0.01, stretch=0.1, Q=4)"
   ]
  }
 ],
 "metadata": {
  "kernelspec": {
   "display_name": "Python [conda env:astobjdet]",
   "language": "python",
   "name": "conda-env-astobjdet-py"
  }
 },
 "nbformat": 4,
 "nbformat_minor": 2
}
